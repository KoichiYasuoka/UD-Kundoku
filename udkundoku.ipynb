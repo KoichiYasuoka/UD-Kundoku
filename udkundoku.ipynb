{
  "nbformat":4,
  "nbformat_minor":0,
  "metadata":{
    "colab":{ "name":"UD-Kundoku on Google Colaboratory" },
    "kernelspec":{ "name":"python3" }
  },
  "cells": [
    {
      "cell_type":"markdown",
      "metadata":{ "colab_type":"text" },
      "source":[
        "# [UD-Kundoku](https://github.com/KoichiYasuoka/UD-Kundoku/) on Google Colaboratory\n"
      ]
    },
    {
      "cell_type":"code",
      "metadata": { "colab_type":"code" },
      "source": [
        "!pip install udkundoku\n",
        "import udkundoku\n",
        "lzh=udkundoku.load(Danku=True)\n",
        "s=lzh(\"孟子見梁惠王王曰叟不遠千里而來\")\n",
        "import deplacy\n",
        "deplacy.serve(s,port=None)\n",
        "deplacy.serve(udkundoku.reorder(s),port=None)\n",
        "deplacy.serve(udkundoku.translate(s))"
      ],
      "outputs": [
        {
          "output_type": "display_data",
          "data": {
            "text/html":[
              "<iframe width=\"100%\" height=\"250\" src=\"https://koichiyasuoka.github.io/deplacy/deplacy/editor.html#%23%20text%20%3D%20%E4%B8%8D%E5%85%A5%E8%99%8E%E7%A9%B4%E4%B8%8D%E5%BE%97%E8%99%8E%E5%AD%90%0A1%09%E4%B8%8D%09%E4%B8%8D%09ADV%09v%2C%E5%89%AF%E8%A9%9E%2C%E5%90%A6%E5%AE%9A%2C%E7%84%A1%E7%95%8C%09Polarity%3DNeg%092%09advmod%09_%09Gloss%3Dnot%7CSpaceAfter%3DNo%0A2%09%E5%85%A5%09%E5%85%A5%09VERB%09v%2C%E5%8B%95%E8%A9%9E%2C%E8%A1%8C%E7%82%BA%2C%E7%A7%BB%E5%8B%95%09_%090%09root%09_%09Gloss%3Denter%7CSpaceAfter%3DNo%0A3%09%E8%99%8E%09%E8%99%8E%09NOUN%09n%2C%E5%90%8D%E8%A9%9E%2C%E4%B8%BB%E4%BD%93%2C%E5%8B%95%E7%89%A9%09_%094%09nmod%09_%09Gloss%3Dtiger%7CSpaceAfter%3DNo%0A4%09%E7%A9%B4%09%E7%A9%B4%09NOUN%09n%2C%E5%90%8D%E8%A9%9E%2C%E5%9B%BA%E5%AE%9A%E7%89%A9%2C%E5%9C%B0%E5%BD%A2%09Case%3DLoc%092%09obj%09_%09Gloss%3Dcave%7CSpaceAfter%3DNo%0A5%09%E4%B8%8D%09%E4%B8%8D%09ADV%09v%2C%E5%89%AF%E8%A9%9E%2C%E5%90%A6%E5%AE%9A%2C%E7%84%A1%E7%95%8C%09Polarity%3DNeg%096%09advmod%09_%09Gloss%3Dnot%7CSpaceAfter%3DNo%0A6%09%E5%BE%97%09%E5%BE%97%09VERB%09v%2C%E5%8B%95%E8%A9%9E%2C%E8%A1%8C%E7%82%BA%2C%E5%BE%97%E5%A4%B1%09_%092%09parataxis%09_%09Gloss%3Dget%7CSpaceAfter%3DNo%0A7%09%E8%99%8E%09%E8%99%8E%09NOUN%09n%2C%E5%90%8D%E8%A9%9E%2C%E4%B8%BB%E4%BD%93%2C%E5%8B%95%E7%89%A9%09_%098%09nmod%09_%09Gloss%3Dtiger%7CSpaceAfter%3DNo%0A8%09%E5%AD%90%09%E5%AD%90%09NOUN%09n%2C%E5%90%8D%E8%A9%9E%2C%E4%BA%BA%2C%E9%96%A2%E4%BF%82%09_%096%09obj%09_%09Gloss%3Dchild%7CSpaceAfter%3DNo%0A%0A\" frameborder=\"0\" allowfullscreen></iframe>\n",
              "<iframe width=\"100%\" height=\"250\" src=\"https://koichiyasuoka.github.io/deplacy/deplacy/editor.html#1%09%E8%99%8E%09%E8%99%8E%09NOUN%09n%2C%E5%90%8D%E8%A9%9E%2C%E4%B8%BB%E4%BD%93%2C%E5%8B%95%E7%89%A9%09_%092%09nmod%09_%09Gloss%3Dtiger%7CSpaceAfter%3DNo%0A2%09%E7%A9%B4%09%E7%A9%B4%09NOUN%09n%2C%E5%90%8D%E8%A9%9E%2C%E5%9B%BA%E5%AE%9A%E7%89%A9%2C%E5%9C%B0%E5%BD%A2%09Case%3DLoc%093%09obj%09_%09Gloss%3Dcave%7CSpaceAfter%3DNo%0A3%09%E5%85%A5%09%E5%85%A5%09VERB%09v%2C%E5%8B%95%E8%A9%9E%2C%E8%A1%8C%E7%82%BA%2C%E7%A7%BB%E5%8B%95%09_%090%09root%09_%09Gloss%3Denter%7CSpaceAfter%3DNo%0A4%09%E4%B8%8D%09%E4%B8%8D%09ADV%09v%2C%E5%89%AF%E8%A9%9E%2C%E5%90%A6%E5%AE%9A%2C%E7%84%A1%E7%95%8C%09Polarity%3DNeg%093%09advmod%09_%09Gloss%3Dnot%7CSpaceAfter%3DNo%0A5%09%E8%99%8E%09%E8%99%8E%09NOUN%09n%2C%E5%90%8D%E8%A9%9E%2C%E4%B8%BB%E4%BD%93%2C%E5%8B%95%E7%89%A9%09_%096%09nmod%09_%09Gloss%3Dtiger%7CSpaceAfter%3DNo%0A6%09%E5%AD%90%09%E5%AD%90%09NOUN%09n%2C%E5%90%8D%E8%A9%9E%2C%E4%BA%BA%2C%E9%96%A2%E4%BF%82%09_%097%09obj%09_%09Gloss%3Dchild%7CSpaceAfter%3DNo%0A7%09%E5%BE%97%09%E5%BE%97%09VERB%09v%2C%E5%8B%95%E8%A9%9E%2C%E8%A1%8C%E7%82%BA%2C%E5%BE%97%E5%A4%B1%09_%093%09parataxis%09_%09Gloss%3Dget%7CSpaceAfter%3DNo%0A8%09%E4%B8%8D%09%E4%B8%8D%09ADV%09v%2C%E5%89%AF%E8%A9%9E%2C%E5%90%A6%E5%AE%9A%2C%E7%84%A1%E7%95%8C%09Polarity%3DNeg%097%09advmod%09_%09Gloss%3Dnot%7CSpaceAfter%3DNo%0A%0A\" frameborder=\"0\" allowfullscreen></iframe>\n",
              "<iframe width=\"100%\" height=\"250\" src=\"https://koichiyasuoka.github.io/deplacy/deplacy/editor.html#%23%20text%20%3D%20%E8%99%8E%E3%81%AE%E7%A9%B4%E3%81%AB%E5%85%A5%E3%82%89%E3%81%9A%E3%81%97%E3%81%A6%E8%99%8E%E3%81%AE%E5%AD%90%E3%82%92%E5%BE%97%E3%81%9A%0A1%09%E8%99%8E%09%E8%99%8E%09NOUN%09n%2C%E5%90%8D%E8%A9%9E%2C%E4%B8%BB%E4%BD%93%2C%E5%8B%95%E7%89%A9%09_%093%09nmod%09_%09Gloss%3Dtiger%7CSpaceAfter%3DNo%0A2%09%E3%81%AE%09_%09ADP%09_%09_%091%09case%09_%09SpaceAfter%3DNo%0A3%09%E7%A9%B4%09%E7%A9%B4%09NOUN%09n%2C%E5%90%8D%E8%A9%9E%2C%E5%9B%BA%E5%AE%9A%E7%89%A9%2C%E5%9C%B0%E5%BD%A2%09Case%3DLoc%095%09obj%09_%09Gloss%3Dcave%7CSpaceAfter%3DNo%0A4%09%E3%81%AB%09_%09ADP%09_%09_%093%09case%09_%09SpaceAfter%3DNo%0A5%09%E5%85%A5%E3%82%89%09%E5%85%A5%09VERB%09v%2C%E5%8B%95%E8%A9%9E%2C%E8%A1%8C%E7%82%BA%2C%E7%A7%BB%E5%8B%95%09_%090%09root%09_%09Gloss%3Denter%7CSpaceAfter%3DNo%0A6%09%E3%81%9A%E3%81%97%E3%81%A6%09%E4%B8%8D%09AUX%09v%2C%E5%89%AF%E8%A9%9E%2C%E5%90%A6%E5%AE%9A%2C%E7%84%A1%E7%95%8C%09Polarity%3DNeg%095%09advmod%09_%09Gloss%3Dnot%7CSpaceAfter%3DNo%0A7%09%E8%99%8E%09%E8%99%8E%09NOUN%09n%2C%E5%90%8D%E8%A9%9E%2C%E4%B8%BB%E4%BD%93%2C%E5%8B%95%E7%89%A9%09_%099%09nmod%09_%09Gloss%3Dtiger%7CSpaceAfter%3DNo%0A8%09%E3%81%AE%09_%09ADP%09_%09_%097%09case%09_%09SpaceAfter%3DNo%0A9%09%E5%AD%90%09%E5%AD%90%09NOUN%09n%2C%E5%90%8D%E8%A9%9E%2C%E4%BA%BA%2C%E9%96%A2%E4%BF%82%09_%0911%09obj%09_%09Gloss%3Dchild%7CSpaceAfter%3DNo%0A10%09%E3%82%92%09_%09ADP%09_%09_%099%09case%09_%09SpaceAfter%3DNo%0A11%09%E5%BE%97%09%E5%BE%97%09VERB%09v%2C%E5%8B%95%E8%A9%9E%2C%E8%A1%8C%E7%82%BA%2C%E5%BE%97%E5%A4%B1%09_%095%09parataxis%09_%09Gloss%3Dget%7CSpaceAfter%3DNo%0A12%09%E3%81%9A%09%E4%B8%8D%09AUX%09v%2C%E5%89%AF%E8%A9%9E%2C%E5%90%A6%E5%AE%9A%2C%E7%84%A1%E7%95%8C%09Polarity%3DNeg%0911%09advmod%09_%09Gloss%3Dnot%7CSpaceAfter%3DNo%0A%0A\" frameborder=\"0\" allowfullscreen></iframe>\n"
            ]
          }
        }
      ]
    }
  ]
}
