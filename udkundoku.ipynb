{
  "nbformat":4,
  "nbformat_minor":0,
  "metadata":{
    "colab":{ "name":"UD-Kundoku on Google Colaboratory" },
    "kernelspec":{ "name":"python3" }
  },
  "cells": [
    {
      "cell_type":"markdown",
      "metadata":{ "colab_type":"text" },
      "source":[
        "# [UD-Kundoku](https://github.com/KoichiYasuoka/UD-Kundoku/) on Google Colaboratory\n"
      ]
    },
    {
      "cell_type":"code",
      "metadata": { "colab_type":"code" },
      "source": [
        "!pip install udkundoku\n",
        "import udkundoku\n",
        "lzh=udkundoku.load(Danku=False)\n",
        "s=lzh(\"王顧左右而言他\")\n",
        "import deplacy\n",
        "deplacy.serve(str(s)+str(udkundoku.reorder(s))+str(udkundoku.translate(s)),port=None)"
      ]
    }
  ]
}
